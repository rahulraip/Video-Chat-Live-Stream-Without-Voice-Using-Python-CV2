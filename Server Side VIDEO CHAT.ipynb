{
 "cells": [
  {
   "cell_type": "code",
   "execution_count": null,
   "id": "f5f5c225",
   "metadata": {},
   "outputs": [],
   "source": [
    "# Welcome to Video_chat program\n",
    "\n",
    "# This code is for the server \n",
    "# Lets import the libraries\n",
    "import socket, cv2, pickle,struct,imutils\n",
    "\n",
    "# Socket Create\n",
    "server_socket = socket.socket(socket.AF_INET,socket.SOCK_STREAM)\n",
    "host_name  = socket.gethostname()\n",
    "host_ip = \"0.0.0.0\"\n",
    "#host_ip = socket.gethostbyname(host_name)\n",
    "print('HOST IP:',host_ip)\n",
    "port = 9999\n",
    "socket_address = (host_ip,port)\n",
    "\n",
    "# Socket Bind\n",
    "server_socket.bind(socket_address)\n",
    "\n",
    "# Socket Listen\n",
    "server_socket.listen(5)\n",
    "print(\"LISTENING AT:\",socket_address)\n",
    "\n",
    "# Socket Accept\n",
    "while True:\n",
    "  client_socket,addr = server_socket.accept()\n",
    "  print('GOT CONNECTION FROM:',addr)\n",
    "  if client_socket:\n",
    "    vid = cv2.VideoCapture(0)\n",
    "    \n",
    "    while(vid.isOpened()):\n",
    "      img,frame = vid.read()\n",
    "      frame = imutils.resize(frame,width=320)\n",
    "      a = pickle.dumps(frame)\n",
    "      message = struct.pack(\"Q\",len(a))+a\n",
    "      client_socket.sendall(message)\n",
    "      \n",
    "      cv2.imshow('TRANSMITTING VIDEO',frame)\n",
    "      key = cv2.waitKey(1) & 0xFF\n",
    "      if key ==ord('q'):\n",
    "        client_socket.close()\n",
    "\n",
    "server\n",
    "\n"
   ]
  },
  {
   "cell_type": "code",
   "execution_count": null,
   "id": "7a025ec3",
   "metadata": {},
   "outputs": [],
   "source": []
  }
 ],
 "metadata": {
  "kernelspec": {
   "display_name": "Python 3",
   "language": "python",
   "name": "python3"
  },
  "language_info": {
   "codemirror_mode": {
    "name": "ipython",
    "version": 3
   },
   "file_extension": ".py",
   "mimetype": "text/x-python",
   "name": "python",
   "nbconvert_exporter": "python",
   "pygments_lexer": "ipython3",
   "version": "3.8.8"
  }
 },
 "nbformat": 4,
 "nbformat_minor": 5
}
