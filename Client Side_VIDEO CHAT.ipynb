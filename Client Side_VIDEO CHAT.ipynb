{
 "cells": [
  {
   "cell_type": "code",
   "execution_count": null,
   "id": "86593478",
   "metadata": {},
   "outputs": [],
   "source": [
    "# lets make the client code\n",
    "import socket,cv2, pickle,struct\n",
    "\n",
    "# create socket\n",
    "client_socket = socket.socket(socket.AF_INET,socket.SOCK_STREAM)\n",
    "host_ip = '192.168.43.83' # paste your server ip address here\n",
    "port = 9999\n",
    "client_socket.connect((host_ip,port)) # a tuple\n",
    "data = b\"\"\n",
    "payload_size = struct.calcsize(\"Q\")\n",
    "while True:\n",
    "  while len(data) < payload_size:\n",
    "    packet = client_socket.recv(4*1024) # 4K\n",
    "    if not packet: break\n",
    "    data+=packet\n",
    "  packed_msg_size = data[:payload_size]\n",
    "  data = data[payload_size:]\n",
    "  msg_size = struct.unpack(\"Q\",packed_msg_size)[0]\n",
    "  \n",
    "  while len(data) < msg_size:\n",
    "    data += client_socket.recv(4*1024)\n",
    "  frame_data = data[:msg_size]\n",
    "  data  = data[msg_size:]\n",
    "  frame = pickle.loads(frame_data)\n",
    "  cv2.imshow(\"RECEIVING VIDEO\",frame)\n",
    "  key = cv2.waitKey(1) & 0xFF\n",
    "  if key  == ord('q'):\n",
    "    break\n",
    "client_socket.close()\n",
    "\n",
    "client"
   ]
  },
  {
   "cell_type": "code",
   "execution_count": null,
   "id": "b4761c9a",
   "metadata": {},
   "outputs": [],
   "source": []
  }
 ],
 "metadata": {
  "kernelspec": {
   "display_name": "Python 3",
   "language": "python",
   "name": "python3"
  },
  "language_info": {
   "codemirror_mode": {
    "name": "ipython",
    "version": 3
   },
   "file_extension": ".py",
   "mimetype": "text/x-python",
   "name": "python",
   "nbconvert_exporter": "python",
   "pygments_lexer": "ipython3",
   "version": "3.8.8"
  }
 },
 "nbformat": 4,
 "nbformat_minor": 5
}
